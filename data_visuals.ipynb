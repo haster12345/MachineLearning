{
 "cells": [
  {
   "cell_type": "code",
   "execution_count": 1,
   "id": "initial_id",
   "metadata": {
    "ExecuteTime": {
     "end_time": "2023-12-15T15:51:56.947209900Z",
     "start_time": "2023-12-15T15:51:56.897008600Z"
    },
    "collapsed": true
   },
   "outputs": [
    {
     "name": "stdout",
     "output_type": "stream",
     "text": [
      "hello world\n"
     ]
    }
   ],
   "source": [
    "print('hello world')"
   ]
  },
  {
   "cell_type": "code",
   "execution_count": 2,
   "id": "9e69351d",
   "metadata": {},
   "outputs": [
    {
     "name": "stdout",
     "output_type": "stream",
     "text": [
      "deez nuts\n"
     ]
    }
   ],
   "source": [
    "\n",
    "\n",
    "print('deez nuts')"
   ]
  },
  {
   "cell_type": "code",
   "execution_count": 9,
   "id": "ad74062e",
   "metadata": {},
   "outputs": [
    {
     "name": "stdout",
     "output_type": "stream",
     "text": [
      "Posted On            object\n",
      "BHK                   int64\n",
      "Rent                  int64\n",
      "Size                  int64\n",
      "Floor                object\n",
      "Area Type            object\n",
      "Area Locality        object\n",
      "City                 object\n",
      "Furnishing Status    object\n",
      "Tenant Preferred     object\n",
      "Bathroom              int64\n",
      "Point of Contact     object\n",
      "dtype: object\n"
     ]
    }
   ],
   "source": [
    "import pandas as pd\n",
    "from sklearn.model_selection import train_test_split\n",
    "\n",
    "df = pd.read_csv('rent_data/House_Rent_Dataset.csv')\n",
    "\n",
    "print(df.dtypes)\n",
    "\n",
    "features = df.drop('Rent', axis=1)\n",
    "target_variables = df['Rent']\n",
    "\n",
    "features_train, features_test, target_variables_train, target_variables_test = (\n",
    "    train_test_split(features, target_variables, test_size=0.2, random_state=42))"
   ]
  },
  {
   "cell_type": "code",
   "execution_count": 10,
   "id": "89766de7",
   "metadata": {},
   "outputs": [
    {
     "data": {
      "text/plain": [
       "Posted On            object\n",
       "BHK                   int64\n",
       "Size                  int64\n",
       "Floor                object\n",
       "Area Type            object\n",
       "Area Locality        object\n",
       "City                 object\n",
       "Furnishing Status    object\n",
       "Tenant Preferred     object\n",
       "Bathroom              int64\n",
       "Point of Contact     object\n",
       "dtype: object"
      ]
     },
     "execution_count": 10,
     "metadata": {},
     "output_type": "execute_result"
    }
   ],
   "source": [
    "features.dtypes"
   ]
  },
  {
   "cell_type": "code",
   "execution_count": 4,
   "id": "4e259ff8",
   "metadata": {},
   "outputs": [
    {
     "name": "stdout",
     "output_type": "stream",
     "text": [
      "    x_values  y_values  sinxy_values\n",
      "0  -2.429847  2.522423      0.153475\n",
      "1  -2.655823 -0.316361      0.744776\n",
      "2  -1.281640  2.221027     -0.290773\n",
      "3  -1.793673  0.466020     -0.741891\n",
      "4   2.133370 -1.626173      0.321806\n",
      "..       ...       ...           ...\n",
      "95  0.306883 -3.031067     -0.801730\n",
      "96 -2.220996  0.140810     -0.307665\n",
      "97 -1.042452  2.564464     -0.451336\n",
      "98  2.703415  1.026373      0.358704\n",
      "99 -2.630621  2.813967     -0.899793\n",
      "\n",
      "[100 rows x 3 columns]\n"
     ]
    }
   ],
   "source": [
    "import numpy as np\n",
    "import random\n",
    "import pandas as pd\n",
    "\n",
    "sinxy = lambda x,y : np.sin((x*y))\n",
    "\n",
    "x_values = [random.uniform(-np.pi, np.pi) for _ in range(100)]\n",
    "\n",
    "y_values = [random.uniform(-np.pi, np.pi) for _ in range(100)]\n",
    "\n",
    "xy_values = []\n",
    "\n",
    "for i in range(100):\n",
    "    xy_values.append((x_values[i], y_values[i]))\n",
    "\n",
    "sinxy_values = [sinxy(x,y) for (x,y) in xy_values ]\n",
    "\n",
    "data_dict = {'x_values' : x_values, 'y_values': y_values, 'sinxy_values': sinxy_values}\n",
    "\n",
    "df = pd.DataFrame(data = data_dict) \n",
    "\n",
    "\n",
    "print(df)\n",
    "\n"
   ]
  },
  {
   "cell_type": "code",
   "execution_count": null,
   "id": "96c64e4e",
   "metadata": {},
   "outputs": [],
   "source": []
  },
  {
   "cell_type": "code",
   "execution_count": null,
   "id": "c9fe0bd1",
   "metadata": {},
   "outputs": [],
   "source": []
  }
 ],
 "metadata": {
  "kernelspec": {
   "display_name": "Python 3",
   "language": "python",
   "name": "python3"
  },
  "language_info": {
   "codemirror_mode": {
    "name": "ipython",
    "version": 3
   },
   "file_extension": ".py",
   "mimetype": "text/x-python",
   "name": "python",
   "nbconvert_exporter": "python",
   "pygments_lexer": "ipython3",
   "version": "3.11.2"
  }
 },
 "nbformat": 4,
 "nbformat_minor": 5
}
